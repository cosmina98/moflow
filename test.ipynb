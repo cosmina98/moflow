{
 "cells": [
  {
   "cell_type": "code",
   "execution_count": 2,
   "metadata": {},
   "outputs": [],
   "source": [
    "import sys"
   ]
  },
  {
   "cell_type": "code",
   "execution_count": 4,
   "metadata": {},
   "outputs": [
    {
     "name": "stdout",
     "output_type": "stream",
     "text": [
      " Volume in drive C is OSDisk\n",
      " Volume Serial Number is 1AD5-DE04\n",
      "\n",
      " Directory of c:\\Users\\cs843\\Documents\\PhD\\2023\\Proposal\\Generators tried\\moflow\n",
      "\n",
      "25/04/2023  13:22    <DIR>          .\n",
      "25/04/2023  13:22    <DIR>          ..\n",
      "25/04/2023  11:56    <DIR>          .idea\n",
      "25/04/2023  12:51    <DIR>          data\n",
      "25/04/2023  11:56             1,076 License.md\n",
      "25/04/2023  13:22    <DIR>          mflow\n",
      "25/04/2023  11:56            14,024 README.md\n",
      "25/04/2023  13:19               824 test.ipynb\n",
      "               3 File(s)         15,924 bytes\n",
      "               5 Dir(s)  340,006,780,928 bytes free\n"
     ]
    }
   ],
   "source": [
    "ls"
   ]
  },
  {
   "cell_type": "code",
   "execution_count": 5,
   "metadata": {},
   "outputs": [
    {
     "name": "stdout",
     "output_type": "stream",
     "text": [
      "c:\\Users\\cs843\\Documents\\PhD\\2023\\Proposal\\Generators tried\\moflow\\data\n"
     ]
    }
   ],
   "source": [
    "cd data\n"
   ]
  },
  {
   "cell_type": "code",
   "execution_count": 9,
   "metadata": {},
   "outputs": [
    {
     "name": "stdout",
     "output_type": "stream",
     "text": [
      "args {'data_name': 'ames_train1_pos', 'data_type': 'relgcn'}\n",
      "Preprocessing smiles data\n",
      "Save .\\ames_train1_pos_relgcn_kekulized_ggnp.npz done.\n",
      "Total time: 00:00:03\n"
     ]
    },
    {
     "name": "stderr",
     "output_type": "stream",
     "text": [
      "\n",
      "  0%|          | 0/2175 [00:00<?, ?it/s]\n",
      "  5%|▌         | 112/2175 [00:00<00:01, 1119.36it/s]\n",
      " 11%|█         | 231/2175 [00:00<00:01, 1160.70it/s]\n",
      " 16%|█▋        | 357/2175 [00:00<00:01, 1200.71it/s]\n",
      " 22%|██▏       | 478/2175 [00:00<00:01, 1149.72it/s]\n",
      " 28%|██▊       | 602/2175 [00:00<00:01, 1179.51it/s]\n",
      " 33%|███▎      | 723/2175 [00:00<00:01, 1187.61it/s]\n",
      " 39%|███▊      | 842/2175 [00:00<00:01, 892.41it/s] \n",
      " 43%|████▎     | 942/2175 [00:00<00:01, 890.32it/s]\n",
      " 49%|████▊     | 1058/2175 [00:01<00:01, 960.93it/s]\n",
      " 54%|█████▍    | 1171/2175 [00:01<00:00, 1004.22it/s]\n",
      " 59%|█████▊    | 1277/2175 [00:01<00:01, 894.47it/s] \n",
      " 63%|██████▎   | 1376/2175 [00:01<00:00, 919.24it/s]\n",
      " 69%|██████▉   | 1498/2175 [00:01<00:00, 1000.29it/s]\n",
      " 75%|███████▍  | 1621/2175 [00:01<00:00, 1064.25it/s]\n",
      " 80%|████████  | 1744/2175 [00:01<00:00, 1110.66it/s]\n",
      " 85%|████████▌ | 1858/2175 [00:01<00:00, 1115.38it/s]\n",
      " 91%|█████████▏| 1985/2175 [00:01<00:00, 1157.41it/s]\n",
      " 97%|█████████▋| 2116/2175 [00:01<00:00, 1198.97it/s]\n",
      "100%|██████████| 2175/2175 [00:02<00:00, 1072.14it/s]\n"
     ]
    }
   ],
   "source": [
    "!python data_preprocess.py --data_name ames_train1_pos\n"
   ]
  },
  {
   "cell_type": "code",
   "execution_count": 10,
   "metadata": {},
   "outputs": [
    {
     "name": "stdout",
     "output_type": "stream",
     "text": [
      "[WinError 2] The system cannot find the file specified: 'mflow'\n",
      "c:\\Users\\cs843\\Documents\\PhD\\2023\\Proposal\\Generators tried\\moflow\\data\n"
     ]
    }
   ],
   "source": [
    "cd mflow\n"
   ]
  },
  {
   "cell_type": "code",
   "execution_count": 11,
   "metadata": {},
   "outputs": [
    {
     "name": "stderr",
     "output_type": "stream",
     "text": [
      "'tee' is not recognized as an internal or external command,\n",
      "operable program or batch file.\n"
     ]
    }
   ],
   "source": [
    "!python train_model.py  --data_name ames_train1_pos  --batch_size  256  --max_epochs 200 --gpu 0  --debug True  --save_dir=results/ames_train1_pos   --b_n_flow 10  --b_hidden_ch 512,512  --a_n_flow 38  --a_hidden_gnn 256  --a_hidden_lin  512,64   --mask_row_size_list 1 --mask_row_stride_list 1  --noise_scale 0.6  --b_conv_lu 2  2>&1 | tee ames_train1_pos.log\n"
   ]
  }
 ],
 "metadata": {
  "kernelspec": {
   "display_name": "Python 3",
   "language": "python",
   "name": "python3"
  },
  "language_info": {
   "codemirror_mode": {
    "name": "ipython",
    "version": 3
   },
   "file_extension": ".py",
   "mimetype": "text/x-python",
   "name": "python",
   "nbconvert_exporter": "python",
   "pygments_lexer": "ipython3",
   "version": "3.10.5"
  },
  "orig_nbformat": 4
 },
 "nbformat": 4,
 "nbformat_minor": 2
}
